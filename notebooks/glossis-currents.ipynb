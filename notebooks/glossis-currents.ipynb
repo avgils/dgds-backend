{
 "cells": [
  {
   "cell_type": "code",
   "execution_count": 2,
   "metadata": {},
   "outputs": [],
   "source": [
    "import logging\n",
    "\n",
    "import ee\n",
    "\n",
    "logger = logging.getLogger('glossis-currents')\n",
    "logging.basicConfig(level=logging.DEBUG)\n"
   ]
  },
  {
   "cell_type": "code",
   "execution_count": 3,
   "metadata": {},
   "outputs": [],
   "source": [
    "def getWGS84Geometry():\n",
    "    geometry = ee.Geometry.Polygon([\n",
    "            [180,90],\n",
    "            [0,90],\n",
    "            [-180,90],\n",
    "            [-180,-90],\n",
    "            [0,-90],\n",
    "            [180,-90],\n",
    "            [180,90]\n",
    "        ], \n",
    "        'EPSG:4326', \n",
    "        False\n",
    "    )\n",
    "    return geometry\n",
    "\n",
    "def last(images):\n",
    "    sorted = images.sort('system:time_start', False)\n",
    "    last = sorted.first()\n",
    "    return last\n",
    "\n",
    "def tail(images, n):\n",
    "    sorted = images.limit(n, 'system:time_start', False)\n",
    "    return sorted"
   ]
  },
  {
   "cell_type": "code",
   "execution_count": 4,
   "metadata": {},
   "outputs": [],
   "source": [
    "def exportCurrents(currents):\n",
    "    \"\"\"Extract the timestamp for unique variable names  (assumes new instances are overwritten)\"\"\"\n",
    "    timeStamp = currents.date().format(\"yyyyMMddHHmm\")\n",
    "    currents = currents.set('time_stamp', timeStamp)\n",
    "    flowmap = currents.unitScale(-0.5, 0.5)\n",
    "\n",
    "    # First deal with the mask\n",
    "    # Create unmask and replace  mask by missing value\n",
    "    flowmap = flowmap.unmask(-9999)\n",
    "\n",
    "    # take  the mask\n",
    "    mask = flowmap.eq(-9999).select('b1')\n",
    "    # Create a smooth mask\n",
    "    mask = mask.float()\n",
    "\n",
    "    mask = (\n",
    "      mask\n",
    "        .resample('bilinear')\n",
    "        .where(land.mask(), 1)\n",
    "        .unmask()\n",
    "    )  \n",
    "\n",
    "    # convert to 0,1\n",
    "    flowmap = flowmap.clamp(0, 1)\n",
    "    flowmap = flowmap.resample('bilinear')\n",
    "\n",
    "    flowmap = (\n",
    "      flowmap\n",
    "        .convolve(ee.Kernel.gaussian(30000, 20000, 'meters'))\n",
    "    )\n",
    "\n",
    "    flowmap = flowmap.addBands(mask)\n",
    "    flowmap = flowmap.rename(['u', 'v', 'mask'])\n",
    "    # Convert three  channels to rgb\n",
    "    flowmapRgb = flowmap.visualize()\n",
    "    flowmapRgb = ee.Image(\n",
    "        flowmapRgb\n",
    "          .copyProperties(currents)\n",
    "    )\n",
    "    return flowmapRgb"
   ]
  },
  {
   "cell_type": "code",
   "execution_count": 6,
   "metadata": {},
   "outputs": [],
   "source": [
    "def exportTimeStamp(timeStamp,  region):\n",
    "    \"\"\"This uses the global flowmapRgbs\"\"\"\n",
    "    exportFilename ='glossis-current' + '-' + timeStamp\n",
    "    selected  = flowmapRgbs.filter(ee.Filter.eq('time_stamp', timeStamp))\n",
    "    flowmapRgb = selected.first()\n",
    "    kwargs = {\n",
    "        \"image\": flowmapRgb, \n",
    "        \"description\": exportFilename + '-flowmap', \n",
    "        \"bucket\": 'deltares-video-map', \n",
    "        \"fileNamePrefix\": exportFilename, \n",
    "        \"dimensions\": '8192x5760', \n",
    "        \"region\": region, \n",
    "        \"crs\": 'EPSG:4326'\n",
    "    }\n",
    "    logger.debug('exporting task {}'.format(kwargs))\n",
    "    return ee.batch.Export.image.toCloudStorage(**kwargs)\n"
   ]
  },
  {
   "cell_type": "code",
   "execution_count": 7,
   "metadata": {},
   "outputs": [
    {
     "name": "stderr",
     "output_type": "stream",
     "text": [
      "INFO:googleapiclient.discovery:URL being requested: GET https://earthengine.googleapis.com/v1alpha/projects/earthengine-legacy/algorithms?prettyPrint=false&alt=json\n",
      "DEBUG:google_auth_httplib2:Making request: POST https://accounts.google.com/o/oauth2/token\n"
     ]
    }
   ],
   "source": [
    "ee.Initialize()\n",
    "glossis = ee.ImageCollection(\"projects/dgds-gee/glossis/currents\")\n",
    "land = ee.Image(\"users/gena/land_polygons_image\")"
   ]
  },
  {
   "cell_type": "code",
   "execution_count": 12,
   "metadata": {},
   "outputs": [
    {
     "name": "stderr",
     "output_type": "stream",
     "text": [
      "INFO:googleapiclient.discovery:URL being requested: POST https://earthengine.googleapis.com/v1alpha/projects/earthengine-legacy/value:compute?prettyPrint=false&alt=json\n",
      "DEBUG:glossis-currents:exporting task {'image': <ee.image.Image object at 0x112b94320>, 'description': 'glossis-current-202003270000-flowmap', 'bucket': 'deltares-video-map', 'fileNamePrefix': 'glossis-current-202003270000', 'dimensions': '8192x5760', 'region': <ee.geometry.Geometry object at 0x112c14128>, 'crs': 'EPSG:4326'}\n",
      "DEBUG:glossis-currents:exporting task {'image': <ee.image.Image object at 0x112b1ac18>, 'description': 'glossis-current-202003261200-flowmap', 'bucket': 'deltares-video-map', 'fileNamePrefix': 'glossis-current-202003261200', 'dimensions': '8192x5760', 'region': <ee.geometry.Geometry object at 0x112c14128>, 'crs': 'EPSG:4326'}\n",
      "DEBUG:glossis-currents:exporting task {'image': <ee.image.Image object at 0x112b6ae48>, 'description': 'glossis-current-202003260600-flowmap', 'bucket': 'deltares-video-map', 'fileNamePrefix': 'glossis-current-202003260600', 'dimensions': '8192x5760', 'region': <ee.geometry.Geometry object at 0x112c14128>, 'crs': 'EPSG:4326'}\n",
      "DEBUG:glossis-currents:exporting task {'image': <ee.image.Image object at 0x112bfc080>, 'description': 'glossis-current-202003260000-flowmap', 'bucket': 'deltares-video-map', 'fileNamePrefix': 'glossis-current-202003260000', 'dimensions': '8192x5760', 'region': <ee.geometry.Geometry object at 0x112c14128>, 'crs': 'EPSG:4326'}\n",
      "DEBUG:glossis-currents:exporting task {'image': <ee.image.Image object at 0x112bfc470>, 'description': 'glossis-current-202003251800-flowmap', 'bucket': 'deltares-video-map', 'fileNamePrefix': 'glossis-current-202003251800', 'dimensions': '8192x5760', 'region': <ee.geometry.Geometry object at 0x112c14128>, 'crs': 'EPSG:4326'}\n",
      "DEBUG:glossis-currents:exporting task {'image': <ee.image.Image object at 0x112bfc780>, 'description': 'glossis-current-202003251200-flowmap', 'bucket': 'deltares-video-map', 'fileNamePrefix': 'glossis-current-202003251200', 'dimensions': '8192x5760', 'region': <ee.geometry.Geometry object at 0x112c14128>, 'crs': 'EPSG:4326'}\n",
      "DEBUG:glossis-currents:exporting task {'image': <ee.image.Image object at 0x112bfcdd8>, 'description': 'glossis-current-202003250600-flowmap', 'bucket': 'deltares-video-map', 'fileNamePrefix': 'glossis-current-202003250600', 'dimensions': '8192x5760', 'region': <ee.geometry.Geometry object at 0x112c14128>, 'crs': 'EPSG:4326'}\n",
      "DEBUG:glossis-currents:exporting task {'image': <ee.image.Image object at 0x112bfcf60>, 'description': 'glossis-current-202003250000-flowmap', 'bucket': 'deltares-video-map', 'fileNamePrefix': 'glossis-current-202003250000', 'dimensions': '8192x5760', 'region': <ee.geometry.Geometry object at 0x112c14128>, 'crs': 'EPSG:4326'}\n",
      "DEBUG:glossis-currents:exporting task {'image': <ee.image.Image object at 0x112bf50b8>, 'description': 'glossis-current-202003241800-flowmap', 'bucket': 'deltares-video-map', 'fileNamePrefix': 'glossis-current-202003241800', 'dimensions': '8192x5760', 'region': <ee.geometry.Geometry object at 0x112c14128>, 'crs': 'EPSG:4326'}\n",
      "DEBUG:glossis-currents:exporting task {'image': <ee.image.Image object at 0x112bf53c8>, 'description': 'glossis-current-202003241200-flowmap', 'bucket': 'deltares-video-map', 'fileNamePrefix': 'glossis-current-202003241200', 'dimensions': '8192x5760', 'region': <ee.geometry.Geometry object at 0x112c14128>, 'crs': 'EPSG:4326'}\n",
      "DEBUG:glossis-currents:exporting task {'image': <ee.image.Image object at 0x112bf5710>, 'description': 'glossis-current-202003240600-flowmap', 'bucket': 'deltares-video-map', 'fileNamePrefix': 'glossis-current-202003240600', 'dimensions': '8192x5760', 'region': <ee.geometry.Geometry object at 0x112c14128>, 'crs': 'EPSG:4326'}\n",
      "DEBUG:glossis-currents:exporting task {'image': <ee.image.Image object at 0x112bf5e10>, 'description': 'glossis-current-202003240000-flowmap', 'bucket': 'deltares-video-map', 'fileNamePrefix': 'glossis-current-202003240000', 'dimensions': '8192x5760', 'region': <ee.geometry.Geometry object at 0x112c14128>, 'crs': 'EPSG:4326'}\n",
      "DEBUG:glossis-currents:exporting task {'image': <ee.image.Image object at 0x112b8b438>, 'description': 'glossis-current-202003231800-flowmap', 'bucket': 'deltares-video-map', 'fileNamePrefix': 'glossis-current-202003231800', 'dimensions': '8192x5760', 'region': <ee.geometry.Geometry object at 0x112c14128>, 'crs': 'EPSG:4326'}\n",
      "DEBUG:glossis-currents:exporting task {'image': <ee.image.Image object at 0x112b06748>, 'description': 'glossis-current-202003231200-flowmap', 'bucket': 'deltares-video-map', 'fileNamePrefix': 'glossis-current-202003231200', 'dimensions': '8192x5760', 'region': <ee.geometry.Geometry object at 0x112c14128>, 'crs': 'EPSG:4326'}\n",
      "DEBUG:glossis-currents:exporting task {'image': <ee.image.Image object at 0x112b06b70>, 'description': 'glossis-current-202003230600-flowmap', 'bucket': 'deltares-video-map', 'fileNamePrefix': 'glossis-current-202003230600', 'dimensions': '8192x5760', 'region': <ee.geometry.Geometry object at 0x112c14128>, 'crs': 'EPSG:4326'}\n",
      "DEBUG:glossis-currents:exporting task {'image': <ee.image.Image object at 0x112b06518>, 'description': 'glossis-current-202003230000-flowmap', 'bucket': 'deltares-video-map', 'fileNamePrefix': 'glossis-current-202003230000', 'dimensions': '8192x5760', 'region': <ee.geometry.Geometry object at 0x112c14128>, 'crs': 'EPSG:4326'}\n",
      "DEBUG:glossis-currents:exporting task {'image': <ee.image.Image object at 0x112b06978>, 'description': 'glossis-current-202003221800-flowmap', 'bucket': 'deltares-video-map', 'fileNamePrefix': 'glossis-current-202003221800', 'dimensions': '8192x5760', 'region': <ee.geometry.Geometry object at 0x112c14128>, 'crs': 'EPSG:4326'}\n",
      "DEBUG:glossis-currents:exporting task {'image': <ee.image.Image object at 0x112b065c0>, 'description': 'glossis-current-202003221200-flowmap', 'bucket': 'deltares-video-map', 'fileNamePrefix': 'glossis-current-202003221200', 'dimensions': '8192x5760', 'region': <ee.geometry.Geometry object at 0x112c14128>, 'crs': 'EPSG:4326'}\n",
      "DEBUG:glossis-currents:exporting task {'image': <ee.image.Image object at 0x112c14be0>, 'description': 'glossis-current-202003220600-flowmap', 'bucket': 'deltares-video-map', 'fileNamePrefix': 'glossis-current-202003220600', 'dimensions': '8192x5760', 'region': <ee.geometry.Geometry object at 0x112c14128>, 'crs': 'EPSG:4326'}\n",
      "DEBUG:glossis-currents:exporting task {'image': <ee.image.Image object at 0x112bfe128>, 'description': 'glossis-current-202003220000-flowmap', 'bucket': 'deltares-video-map', 'fileNamePrefix': 'glossis-current-202003220000', 'dimensions': '8192x5760', 'region': <ee.geometry.Geometry object at 0x112c14128>, 'crs': 'EPSG:4326'}\n"
     ]
    },
    {
     "data": {
      "text/plain": [
       "[<Task EXPORT_IMAGE: glossis-current-202003270000-flowmap (UNSUBMITTED)>,\n",
       " <Task EXPORT_IMAGE: glossis-current-202003261200-flowmap (UNSUBMITTED)>,\n",
       " <Task EXPORT_IMAGE: glossis-current-202003260600-flowmap (UNSUBMITTED)>,\n",
       " <Task EXPORT_IMAGE: glossis-current-202003260000-flowmap (UNSUBMITTED)>,\n",
       " <Task EXPORT_IMAGE: glossis-current-202003251800-flowmap (UNSUBMITTED)>,\n",
       " <Task EXPORT_IMAGE: glossis-current-202003251200-flowmap (UNSUBMITTED)>,\n",
       " <Task EXPORT_IMAGE: glossis-current-202003250600-flowmap (UNSUBMITTED)>,\n",
       " <Task EXPORT_IMAGE: glossis-current-202003250000-flowmap (UNSUBMITTED)>,\n",
       " <Task EXPORT_IMAGE: glossis-current-202003241800-flowmap (UNSUBMITTED)>,\n",
       " <Task EXPORT_IMAGE: glossis-current-202003241200-flowmap (UNSUBMITTED)>,\n",
       " <Task EXPORT_IMAGE: glossis-current-202003240600-flowmap (UNSUBMITTED)>,\n",
       " <Task EXPORT_IMAGE: glossis-current-202003240000-flowmap (UNSUBMITTED)>,\n",
       " <Task EXPORT_IMAGE: glossis-current-202003231800-flowmap (UNSUBMITTED)>,\n",
       " <Task EXPORT_IMAGE: glossis-current-202003231200-flowmap (UNSUBMITTED)>,\n",
       " <Task EXPORT_IMAGE: glossis-current-202003230600-flowmap (UNSUBMITTED)>,\n",
       " <Task EXPORT_IMAGE: glossis-current-202003230000-flowmap (UNSUBMITTED)>,\n",
       " <Task EXPORT_IMAGE: glossis-current-202003221800-flowmap (UNSUBMITTED)>,\n",
       " <Task EXPORT_IMAGE: glossis-current-202003221200-flowmap (UNSUBMITTED)>,\n",
       " <Task EXPORT_IMAGE: glossis-current-202003220600-flowmap (UNSUBMITTED)>,\n",
       " <Task EXPORT_IMAGE: glossis-current-202003220000-flowmap (UNSUBMITTED)>]"
      ]
     },
     "execution_count": 12,
     "metadata": {},
     "output_type": "execute_result"
    }
   ],
   "source": [
    "region = getWGS84Geometry()\n",
    "currentImages =  tail(glossis,  20)\n",
    "\n",
    "# Compute  all flowmaps\n",
    "flowmapRgbs = currentImages.map(exportCurrents)\n",
    "\n",
    "# Extract all time_stamps\n",
    "timeStamps = flowmapRgbs.aggregate_array('time_stamp').getInfo()\n",
    "# For each timestamp,  export the map\n",
    "tasks = []\n",
    "for  timeStamp in timeStamps:\n",
    "    tasks.append(exportTimeStamp(timeStamp, region))\n"
   ]
  },
  {
   "cell_type": "code",
   "execution_count": 9,
   "metadata": {},
   "outputs": [
    {
     "name": "stderr",
     "output_type": "stream",
     "text": [
      "INFO:googleapiclient.discovery:URL being requested: POST https://earthengine.googleapis.com/v1alpha/projects/earthengine-legacy/value:compute?prettyPrint=false&alt=json\n",
      "DEBUG:glossis-currents:exporting task {'image': <ee.image.Image object at 0x112bfee48>, 'description': 'glossis-current-202003270000-flowmap', 'bucket': 'deltares-video-map', 'fileNamePrefix': 'glossis-current-202003270000', 'dimensions': '8192x5760', 'region': <ee.geometry.Geometry object at 0x112b48438>, 'crs': 'EPSG:4326'}\n"
     ]
    }
   ],
   "source": [
    "# If you want  to debug,  you might want to try it on 1 image\n",
    "if True:\n",
    "    currents = currentImages.first()\n",
    "    flowmapRgb = exportCurrents(currents)\n",
    "    timeStamp = flowmapRgb.get('time_stamp').getInfo()\n",
    "    task = exportTimeStamp(timeStamp, region)\n"
   ]
  },
  {
   "cell_type": "code",
   "execution_count": 13,
   "metadata": {},
   "outputs": [
    {
     "name": "stderr",
     "output_type": "stream",
     "text": [
      "INFO:googleapiclient.discovery:URL being requested: POST https://earthengine.googleapis.com/v1alpha/projects/earthengine-legacy/image:export?alt=json\n",
      "INFO:googleapiclient.discovery:URL being requested: POST https://earthengine.googleapis.com/v1alpha/projects/earthengine-legacy/image:export?alt=json\n",
      "INFO:googleapiclient.discovery:URL being requested: POST https://earthengine.googleapis.com/v1alpha/projects/earthengine-legacy/image:export?alt=json\n",
      "INFO:googleapiclient.discovery:URL being requested: POST https://earthengine.googleapis.com/v1alpha/projects/earthengine-legacy/image:export?alt=json\n",
      "INFO:googleapiclient.discovery:URL being requested: POST https://earthengine.googleapis.com/v1alpha/projects/earthengine-legacy/image:export?alt=json\n",
      "INFO:googleapiclient.discovery:URL being requested: POST https://earthengine.googleapis.com/v1alpha/projects/earthengine-legacy/image:export?alt=json\n",
      "INFO:googleapiclient.discovery:URL being requested: POST https://earthengine.googleapis.com/v1alpha/projects/earthengine-legacy/image:export?alt=json\n",
      "INFO:googleapiclient.discovery:URL being requested: POST https://earthengine.googleapis.com/v1alpha/projects/earthengine-legacy/image:export?alt=json\n",
      "INFO:googleapiclient.discovery:URL being requested: POST https://earthengine.googleapis.com/v1alpha/projects/earthengine-legacy/image:export?alt=json\n",
      "INFO:googleapiclient.discovery:URL being requested: POST https://earthengine.googleapis.com/v1alpha/projects/earthengine-legacy/image:export?alt=json\n",
      "INFO:googleapiclient.discovery:URL being requested: POST https://earthengine.googleapis.com/v1alpha/projects/earthengine-legacy/image:export?alt=json\n",
      "INFO:googleapiclient.discovery:URL being requested: POST https://earthengine.googleapis.com/v1alpha/projects/earthengine-legacy/image:export?alt=json\n",
      "INFO:googleapiclient.discovery:URL being requested: POST https://earthengine.googleapis.com/v1alpha/projects/earthengine-legacy/image:export?alt=json\n",
      "INFO:googleapiclient.discovery:URL being requested: POST https://earthengine.googleapis.com/v1alpha/projects/earthengine-legacy/image:export?alt=json\n",
      "INFO:googleapiclient.discovery:URL being requested: POST https://earthengine.googleapis.com/v1alpha/projects/earthengine-legacy/image:export?alt=json\n",
      "INFO:googleapiclient.discovery:URL being requested: POST https://earthengine.googleapis.com/v1alpha/projects/earthengine-legacy/image:export?alt=json\n",
      "INFO:googleapiclient.discovery:URL being requested: POST https://earthengine.googleapis.com/v1alpha/projects/earthengine-legacy/image:export?alt=json\n",
      "INFO:googleapiclient.discovery:URL being requested: POST https://earthengine.googleapis.com/v1alpha/projects/earthengine-legacy/image:export?alt=json\n",
      "INFO:googleapiclient.discovery:URL being requested: POST https://earthengine.googleapis.com/v1alpha/projects/earthengine-legacy/image:export?alt=json\n",
      "INFO:googleapiclient.discovery:URL being requested: POST https://earthengine.googleapis.com/v1alpha/projects/earthengine-legacy/image:export?alt=json\n"
     ]
    },
    {
     "data": {
      "text/plain": [
       "[None,\n",
       " None,\n",
       " None,\n",
       " None,\n",
       " None,\n",
       " None,\n",
       " None,\n",
       " None,\n",
       " None,\n",
       " None,\n",
       " None,\n",
       " None,\n",
       " None,\n",
       " None,\n",
       " None,\n",
       " None,\n",
       " None,\n",
       " None,\n",
       " None,\n",
       " None]"
      ]
     },
     "execution_count": 13,
     "metadata": {},
     "output_type": "execute_result"
    }
   ],
   "source": [
    "for task in tasks:\n",
    "    task.start()"
   ]
  },
  {
   "cell_type": "code",
   "execution_count": 30,
   "metadata": {},
   "outputs": [
    {
     "name": "stderr",
     "output_type": "stream",
     "text": [
      "INFO:googleapiclient.discovery:URL being requested: GET https://earthengine.googleapis.com/v1alpha/projects/earthengine-legacy/operations?pageSize=500&alt=json\n"
     ]
    },
    {
     "data": {
      "text/plain": [
       "[<Task EXPORT_IMAGE: glossis-current-202003220000-flowmap (READY)>,\n",
       " <Task EXPORT_IMAGE: glossis-current-202003220600-flowmap (READY)>,\n",
       " <Task EXPORT_IMAGE: glossis-current-202003221200-flowmap (READY)>,\n",
       " <Task EXPORT_IMAGE: glossis-current-202003221800-flowmap (READY)>,\n",
       " <Task EXPORT_IMAGE: glossis-current-202003230000-flowmap (READY)>,\n",
       " <Task EXPORT_IMAGE: glossis-current-202003230600-flowmap (READY)>,\n",
       " <Task EXPORT_IMAGE: glossis-current-202003231200-flowmap (READY)>,\n",
       " <Task EXPORT_IMAGE: glossis-current-202003231800-flowmap (READY)>,\n",
       " <Task EXPORT_IMAGE: glossis-current-202003240000-flowmap (READY)>,\n",
       " <Task EXPORT_IMAGE: glossis-current-202003240600-flowmap (READY)>,\n",
       " <Task EXPORT_IMAGE: glossis-current-202003241200-flowmap (READY)>,\n",
       " <Task EXPORT_IMAGE: glossis-current-202003241800-flowmap (READY)>,\n",
       " <Task EXPORT_IMAGE: glossis-current-202003250000-flowmap (READY)>,\n",
       " <Task EXPORT_IMAGE: glossis-current-202003250600-flowmap (RUNNING)>,\n",
       " <Task EXPORT_IMAGE: glossis-current-202003251200-flowmap (RUNNING)>,\n",
       " <Task EXPORT_IMAGE: glossis-current-202003251800-flowmap (COMPLETED)>,\n",
       " <Task EXPORT_IMAGE: glossis-current-202003260000-flowmap (COMPLETED)>,\n",
       " <Task EXPORT_IMAGE: glossis-current-202003260600-flowmap (COMPLETED)>,\n",
       " <Task EXPORT_IMAGE: glossis-current-202003261200-flowmap (COMPLETED)>,\n",
       " <Task EXPORT_IMAGE: glossis-current-202003270000-flowmap (COMPLETED)>,\n",
       " <Task EXPORT_IMAGE: glossis-current-202003270000-flowmap (COMPLETED)>]"
      ]
     },
     "execution_count": 30,
     "metadata": {},
     "output_type": "execute_result"
    }
   ],
   "source": [
    "ee.batch.Task.list()"
   ]
  },
  {
   "cell_type": "code",
   "execution_count": 31,
   "metadata": {},
   "outputs": [],
   "source": [
    "task = tasks[-1]"
   ]
  },
  {
   "cell_type": "code",
   "execution_count": 25,
   "metadata": {},
   "outputs": [
    {
     "name": "stderr",
     "output_type": "stream",
     "text": [
      "INFO:googleapiclient.discovery:URL being requested: GET https://earthengine.googleapis.com/v1alpha/projects/earthengine-legacy/operations?pageSize=500&alt=json\n"
     ]
    },
    {
     "data": {
      "text/plain": [
       "[<Task EXPORT_IMAGE: glossis-current-202003220000-flowmap (READY)>,\n",
       " <Task EXPORT_IMAGE: glossis-current-202003220600-flowmap (READY)>,\n",
       " <Task EXPORT_IMAGE: glossis-current-202003221200-flowmap (READY)>,\n",
       " <Task EXPORT_IMAGE: glossis-current-202003221800-flowmap (READY)>,\n",
       " <Task EXPORT_IMAGE: glossis-current-202003230000-flowmap (READY)>,\n",
       " <Task EXPORT_IMAGE: glossis-current-202003230600-flowmap (READY)>,\n",
       " <Task EXPORT_IMAGE: glossis-current-202003231200-flowmap (READY)>,\n",
       " <Task EXPORT_IMAGE: glossis-current-202003231800-flowmap (READY)>,\n",
       " <Task EXPORT_IMAGE: glossis-current-202003240000-flowmap (READY)>,\n",
       " <Task EXPORT_IMAGE: glossis-current-202003240600-flowmap (READY)>,\n",
       " <Task EXPORT_IMAGE: glossis-current-202003241200-flowmap (READY)>,\n",
       " <Task EXPORT_IMAGE: glossis-current-202003241800-flowmap (READY)>,\n",
       " <Task EXPORT_IMAGE: glossis-current-202003250000-flowmap (READY)>,\n",
       " <Task EXPORT_IMAGE: glossis-current-202003250600-flowmap (READY)>,\n",
       " <Task EXPORT_IMAGE: glossis-current-202003251200-flowmap (READY)>,\n",
       " <Task EXPORT_IMAGE: glossis-current-202003251800-flowmap (READY)>,\n",
       " <Task EXPORT_IMAGE: glossis-current-202003260000-flowmap (READY)>,\n",
       " <Task EXPORT_IMAGE: glossis-current-202003260600-flowmap (READY)>,\n",
       " <Task EXPORT_IMAGE: glossis-current-202003261200-flowmap (READY)>,\n",
       " <Task EXPORT_IMAGE: glossis-current-202003270000-flowmap (RUNNING)>,\n",
       " <Task EXPORT_IMAGE: glossis-current-202003270000-flowmap (RUNNING)>]"
      ]
     },
     "execution_count": 25,
     "metadata": {},
     "output_type": "execute_result"
    }
   ],
   "source": [
    "ee.batch.Task.list()"
   ]
  },
  {
   "cell_type": "code",
   "execution_count": 34,
   "metadata": {},
   "outputs": [
    {
     "name": "stderr",
     "output_type": "stream",
     "text": [
      "INFO:googleapiclient.discovery:URL being requested: GET https://earthengine.googleapis.com/v1alpha/projects/earthengine-legacy/operations/T3EMPLRCSZTOYV4DQUMPUYIE?alt=json\n"
     ]
    },
    {
     "data": {
      "text/plain": [
       "{'state': 'READY',\n",
       " 'description': 'glossis-current-202003220000-flowmap',\n",
       " 'creation_timestamp_ms': 1585307423228,\n",
       " 'update_timestamp_ms': 1585307423228,\n",
       " 'start_timestamp_ms': 0,\n",
       " 'task_type': 'EXPORT_IMAGE',\n",
       " 'id': 'T3EMPLRCSZTOYV4DQUMPUYIE',\n",
       " 'name': 'projects/earthengine-legacy/operations/T3EMPLRCSZTOYV4DQUMPUYIE'}"
      ]
     },
     "execution_count": 34,
     "metadata": {},
     "output_type": "execute_result"
    }
   ],
   "source": [
    "task.status()"
   ]
  },
  {
   "cell_type": "code",
   "execution_count": null,
   "metadata": {},
   "outputs": [],
   "source": []
  }
 ],
 "metadata": {
  "kernelspec": {
   "display_name": "Python 3",
   "language": "python",
   "name": "python3"
  },
  "language_info": {
   "codemirror_mode": {
    "name": "ipython",
    "version": 3
   },
   "file_extension": ".py",
   "mimetype": "text/x-python",
   "name": "python",
   "nbconvert_exporter": "python",
   "pygments_lexer": "ipython3",
   "version": "3.6.10"
  }
 },
 "nbformat": 4,
 "nbformat_minor": 2
}
