{
 "cells": [
  {
   "cell_type": "code",
   "execution_count": 24,
   "metadata": {},
   "outputs": [],
   "source": [
    "import logging\n",
    "\n",
    "import ee\n",
    "\n",
    "logger = logging.getLogger('glossis-currents')\n",
    "logging.basicConfig(level=logging.DEBUG)\n"
   ]
  },
  {
   "cell_type": "code",
   "execution_count": 25,
   "metadata": {},
   "outputs": [],
   "source": [
    "def getWGS84Geometry():\n",
    "    geometry = ee.Geometry.Polygon([\n",
    "            [180,90],\n",
    "            [0,90],\n",
    "            [-180,90],\n",
    "            [-180,-90],\n",
    "            [0,-90],\n",
    "            [180,-90],\n",
    "            [180,90]\n",
    "        ], \n",
    "        'EPSG:4326', \n",
    "        False\n",
    "    )\n",
    "    return geometry\n",
    "\n",
    "def last(images):\n",
    "    sorted = images.sort('system:time_start', False)\n",
    "    last = sorted.first()\n",
    "    return last\n",
    "\n",
    "def tail(images, n):\n",
    "    sorted = images.limit(n, 'system:time_start', False)\n",
    "    return sorted"
   ]
  },
  {
   "cell_type": "code",
   "execution_count": 26,
   "metadata": {},
   "outputs": [],
   "source": [
    "def exportCurrents(currents):\n",
    "    \"\"\"Extract the timestamp for unique variable names  (assumes new instances are overwritten)\"\"\"\n",
    "    timeStamp = currents.date().format(\"yyyyMMddHHmm\")\n",
    "    currents = currents.set('time_stamp', timeStamp)\n",
    "    flowmap = currents.unitScale(-0.5, 0.5)\n",
    "\n",
    "    # First deal with the mask\n",
    "    # Create unmask and replace  mask by missing value\n",
    "    flowmap = flowmap.unmask(-9999)\n",
    "\n",
    "    # take  the mask\n",
    "    mask = flowmap.eq(-9999).select('b1')\n",
    "    # Create a smooth mask\n",
    "    mask = mask.float()\n",
    "\n",
    "    mask = (\n",
    "      mask\n",
    "        .resample('bilinear')\n",
    "        .where(land.mask(), 1)\n",
    "        .unmask()\n",
    "    )  \n",
    "\n",
    "    # convert to 0,1\n",
    "    flowmap = flowmap.clamp(0, 1)\n",
    "    flowmap = flowmap.resample('bilinear')\n",
    "\n",
    "    flowmap = (\n",
    "      flowmap\n",
    "        .convolve(ee.Kernel.gaussian(30000, 20000, 'meters'))\n",
    "    )\n",
    "\n",
    "    flowmap = flowmap.addBands(mask)\n",
    "    flowmap = flowmap.rename(['u', 'v', 'mask'])\n",
    "    # Convert three  channels to rgb\n",
    "    flowmapRgb = flowmap.visualize()\n",
    "    flowmapRgb = ee.Image(\n",
    "        flowmapRgb\n",
    "          .copyProperties(currents)\n",
    "    )\n",
    "    return flowmapRgb"
   ]
  },
  {
   "cell_type": "code",
   "execution_count": 33,
   "metadata": {},
   "outputs": [],
   "source": [
    "def exportTimeStamp(timeStamp,  region):\n",
    "    \"\"\"This uses the global flowmapRgbs\"\"\"\n",
    "    exportFilename ='glossis-current' + '-' + timeStamp\n",
    "    selected  = flowmapRgbs.filter(ee.Filter.eq('time_stamp', timeStamp))\n",
    "    flowmapRgb = selected.first()\n",
    "    kwargs = {\n",
    "        \"image\": flowmapRgb, \n",
    "        \"description\": exportFilename + '-flowmap', \n",
    "        \"bucket\": 'deltares-video-map', \n",
    "        \"fileNamePrefix\": exportFilename, \n",
    "        \"dimensions\": '8192x5760', \n",
    "        \"region\": region, \n",
    "        \"crs\": 'EPSG:4326'\n",
    "    }\n",
    "    logger.debug('exporting task {}'.format(kwargs))\n",
    "    ee.batch.Export.image.toCloudStorage(**kwargs)\n"
   ]
  },
  {
   "cell_type": "code",
   "execution_count": 34,
   "metadata": {},
   "outputs": [],
   "source": [
    "ee.Initialize()\n",
    "glossis = ee.ImageCollection(\"projects/dgds-gee/glossis/currents\")\n",
    "land = ee.Image(\"users/gena/land_polygons_image\")"
   ]
  },
  {
   "cell_type": "code",
   "execution_count": 35,
   "metadata": {},
   "outputs": [
    {
     "name": "stderr",
     "output_type": "stream",
     "text": [
      "INFO:googleapiclient.discovery:URL being requested: POST https://earthengine.googleapis.com/v1alpha/projects/earthengine-legacy/value:compute?prettyPrint=false&alt=json\n",
      "DEBUG:google_auth_httplib2:Making request: POST https://accounts.google.com/o/oauth2/token\n",
      "DEBUG:glossis-currents:exporting task {'image': <ee.image.Image object at 0x10d2ef2e8>, 'description': 'glossis-current-202003270000-flowmap', 'bucket': 'deltares-video-map', 'fileNamePrefix': 'glossis-current-202003270000', 'dimensions': '8192x5760', 'region': <ee.geometry.Geometry object at 0x10d2eb588>, 'crs': 'EPSG:4326'}\n",
      "DEBUG:glossis-currents:exporting task {'image': <ee.image.Image object at 0x10d2ef2e8>, 'description': 'glossis-current-202003261200-flowmap', 'bucket': 'deltares-video-map', 'fileNamePrefix': 'glossis-current-202003261200', 'dimensions': '8192x5760', 'region': <ee.geometry.Geometry object at 0x10d2eb588>, 'crs': 'EPSG:4326'}\n",
      "DEBUG:glossis-currents:exporting task {'image': <ee.image.Image object at 0x10d2ef2e8>, 'description': 'glossis-current-202003260600-flowmap', 'bucket': 'deltares-video-map', 'fileNamePrefix': 'glossis-current-202003260600', 'dimensions': '8192x5760', 'region': <ee.geometry.Geometry object at 0x10d2eb588>, 'crs': 'EPSG:4326'}\n",
      "DEBUG:glossis-currents:exporting task {'image': <ee.image.Image object at 0x10d2ef2e8>, 'description': 'glossis-current-202003260000-flowmap', 'bucket': 'deltares-video-map', 'fileNamePrefix': 'glossis-current-202003260000', 'dimensions': '8192x5760', 'region': <ee.geometry.Geometry object at 0x10d2eb588>, 'crs': 'EPSG:4326'}\n",
      "DEBUG:glossis-currents:exporting task {'image': <ee.image.Image object at 0x10d2ef2e8>, 'description': 'glossis-current-202003251800-flowmap', 'bucket': 'deltares-video-map', 'fileNamePrefix': 'glossis-current-202003251800', 'dimensions': '8192x5760', 'region': <ee.geometry.Geometry object at 0x10d2eb588>, 'crs': 'EPSG:4326'}\n",
      "DEBUG:glossis-currents:exporting task {'image': <ee.image.Image object at 0x10d2ef2e8>, 'description': 'glossis-current-202003251200-flowmap', 'bucket': 'deltares-video-map', 'fileNamePrefix': 'glossis-current-202003251200', 'dimensions': '8192x5760', 'region': <ee.geometry.Geometry object at 0x10d2eb588>, 'crs': 'EPSG:4326'}\n",
      "DEBUG:glossis-currents:exporting task {'image': <ee.image.Image object at 0x10d2ef2e8>, 'description': 'glossis-current-202003250600-flowmap', 'bucket': 'deltares-video-map', 'fileNamePrefix': 'glossis-current-202003250600', 'dimensions': '8192x5760', 'region': <ee.geometry.Geometry object at 0x10d2eb588>, 'crs': 'EPSG:4326'}\n",
      "DEBUG:glossis-currents:exporting task {'image': <ee.image.Image object at 0x10d2ef2e8>, 'description': 'glossis-current-202003250000-flowmap', 'bucket': 'deltares-video-map', 'fileNamePrefix': 'glossis-current-202003250000', 'dimensions': '8192x5760', 'region': <ee.geometry.Geometry object at 0x10d2eb588>, 'crs': 'EPSG:4326'}\n",
      "DEBUG:glossis-currents:exporting task {'image': <ee.image.Image object at 0x10d2ef2e8>, 'description': 'glossis-current-202003241800-flowmap', 'bucket': 'deltares-video-map', 'fileNamePrefix': 'glossis-current-202003241800', 'dimensions': '8192x5760', 'region': <ee.geometry.Geometry object at 0x10d2eb588>, 'crs': 'EPSG:4326'}\n",
      "DEBUG:glossis-currents:exporting task {'image': <ee.image.Image object at 0x10d2ef2e8>, 'description': 'glossis-current-202003241200-flowmap', 'bucket': 'deltares-video-map', 'fileNamePrefix': 'glossis-current-202003241200', 'dimensions': '8192x5760', 'region': <ee.geometry.Geometry object at 0x10d2eb588>, 'crs': 'EPSG:4326'}\n",
      "DEBUG:glossis-currents:exporting task {'image': <ee.image.Image object at 0x10d2ef2e8>, 'description': 'glossis-current-202003240600-flowmap', 'bucket': 'deltares-video-map', 'fileNamePrefix': 'glossis-current-202003240600', 'dimensions': '8192x5760', 'region': <ee.geometry.Geometry object at 0x10d2eb588>, 'crs': 'EPSG:4326'}\n",
      "DEBUG:glossis-currents:exporting task {'image': <ee.image.Image object at 0x10d2ef2e8>, 'description': 'glossis-current-202003240000-flowmap', 'bucket': 'deltares-video-map', 'fileNamePrefix': 'glossis-current-202003240000', 'dimensions': '8192x5760', 'region': <ee.geometry.Geometry object at 0x10d2eb588>, 'crs': 'EPSG:4326'}\n",
      "DEBUG:glossis-currents:exporting task {'image': <ee.image.Image object at 0x10d2ef2e8>, 'description': 'glossis-current-202003231800-flowmap', 'bucket': 'deltares-video-map', 'fileNamePrefix': 'glossis-current-202003231800', 'dimensions': '8192x5760', 'region': <ee.geometry.Geometry object at 0x10d2eb588>, 'crs': 'EPSG:4326'}\n",
      "DEBUG:glossis-currents:exporting task {'image': <ee.image.Image object at 0x10d2ef2e8>, 'description': 'glossis-current-202003231200-flowmap', 'bucket': 'deltares-video-map', 'fileNamePrefix': 'glossis-current-202003231200', 'dimensions': '8192x5760', 'region': <ee.geometry.Geometry object at 0x10d2eb588>, 'crs': 'EPSG:4326'}\n",
      "DEBUG:glossis-currents:exporting task {'image': <ee.image.Image object at 0x10d2ef2e8>, 'description': 'glossis-current-202003230600-flowmap', 'bucket': 'deltares-video-map', 'fileNamePrefix': 'glossis-current-202003230600', 'dimensions': '8192x5760', 'region': <ee.geometry.Geometry object at 0x10d2eb588>, 'crs': 'EPSG:4326'}\n",
      "DEBUG:glossis-currents:exporting task {'image': <ee.image.Image object at 0x10d2ef2e8>, 'description': 'glossis-current-202003230000-flowmap', 'bucket': 'deltares-video-map', 'fileNamePrefix': 'glossis-current-202003230000', 'dimensions': '8192x5760', 'region': <ee.geometry.Geometry object at 0x10d2eb588>, 'crs': 'EPSG:4326'}\n",
      "DEBUG:glossis-currents:exporting task {'image': <ee.image.Image object at 0x10d2ef2e8>, 'description': 'glossis-current-202003221800-flowmap', 'bucket': 'deltares-video-map', 'fileNamePrefix': 'glossis-current-202003221800', 'dimensions': '8192x5760', 'region': <ee.geometry.Geometry object at 0x10d2eb588>, 'crs': 'EPSG:4326'}\n",
      "DEBUG:glossis-currents:exporting task {'image': <ee.image.Image object at 0x10d2ef2e8>, 'description': 'glossis-current-202003221200-flowmap', 'bucket': 'deltares-video-map', 'fileNamePrefix': 'glossis-current-202003221200', 'dimensions': '8192x5760', 'region': <ee.geometry.Geometry object at 0x10d2eb588>, 'crs': 'EPSG:4326'}\n",
      "DEBUG:glossis-currents:exporting task {'image': <ee.image.Image object at 0x10d2ef2e8>, 'description': 'glossis-current-202003220600-flowmap', 'bucket': 'deltares-video-map', 'fileNamePrefix': 'glossis-current-202003220600', 'dimensions': '8192x5760', 'region': <ee.geometry.Geometry object at 0x10d2eb588>, 'crs': 'EPSG:4326'}\n",
      "DEBUG:glossis-currents:exporting task {'image': <ee.image.Image object at 0x10d2ef2e8>, 'description': 'glossis-current-202003220000-flowmap', 'bucket': 'deltares-video-map', 'fileNamePrefix': 'glossis-current-202003220000', 'dimensions': '8192x5760', 'region': <ee.geometry.Geometry object at 0x10d2eb588>, 'crs': 'EPSG:4326'}\n"
     ]
    }
   ],
   "source": [
    "region = getWGS84Geometry()\n",
    "currentImages =  tail(glossis,  20)\n",
    "\n",
    "# Compute  all flowmaps\n",
    "flowmapRgbs = currentImages.map(exportCurrents)\n",
    "\n",
    "# Extract all time_stamps\n",
    "timeStamps = flowmapRgbs.aggregate_array('time_stamp').getInfo()\n",
    "# For each timestamp,  export the map\n",
    "tasks = []\n",
    "for  timeStamp in timeStamps:\n",
    "    tasks.append(exportTimeStamp(timeStamp, region))\n"
   ]
  },
  {
   "cell_type": "code",
   "execution_count": 21,
   "metadata": {},
   "outputs": [
    {
     "data": {
      "text/plain": [
       "['202003270000',\n",
       " '202003261200',\n",
       " '202003260600',\n",
       " '202003260000',\n",
       " '202003251800',\n",
       " '202003251200',\n",
       " '202003250600',\n",
       " '202003250000',\n",
       " '202003241800',\n",
       " '202003241200',\n",
       " '202003240600',\n",
       " '202003240000',\n",
       " '202003231800',\n",
       " '202003231200',\n",
       " '202003230600',\n",
       " '202003230000',\n",
       " '202003221800',\n",
       " '202003221200',\n",
       " '202003220600',\n",
       " '202003220000']"
      ]
     },
     "execution_count": 21,
     "metadata": {},
     "output_type": "execute_result"
    }
   ],
   "source": [
    "# If you want  to debug,  you might want to try it on 1 image\n",
    "if False:\n",
    "    currents = currentImages.first()\n",
    "    flowmapRgb = exportCurrents(currents)\n",
    "    timeStamp = flowmapRgb.get('time_stamp').getInfo()\n",
    "    exportTimeStamp(timeStamp, region)\n"
   ]
  },
  {
   "cell_type": "code",
   "execution_count": 23,
   "metadata": {},
   "outputs": [
    {
     "data": {
      "text/plain": [
       "[]"
      ]
     },
     "execution_count": 23,
     "metadata": {},
     "output_type": "execute_result"
    }
   ],
   "source": [
    "ee.batch.Task.list()"
   ]
  },
  {
   "cell_type": "code",
   "execution_count": null,
   "metadata": {},
   "outputs": [],
   "source": []
  }
 ],
 "metadata": {
  "kernelspec": {
   "display_name": "Python 3",
   "language": "python",
   "name": "python3"
  },
  "language_info": {
   "codemirror_mode": {
    "name": "ipython",
    "version": 3
   },
   "file_extension": ".py",
   "mimetype": "text/x-python",
   "name": "python",
   "nbconvert_exporter": "python",
   "pygments_lexer": "ipython3",
   "version": "3.6.10"
  }
 },
 "nbformat": 4,
 "nbformat_minor": 2
}
